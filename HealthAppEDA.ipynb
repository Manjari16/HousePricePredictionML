{
 "cells": [
  {
   "cell_type": "code",
   "execution_count": 19,
   "id": "874f2b84",
   "metadata": {},
   "outputs": [],
   "source": [
    "import pandas as pd\n",
    "import matplotlib.pyplot as plt"
   ]
  },
  {
   "cell_type": "code",
   "execution_count": 3,
   "id": "439f0e7b",
   "metadata": {},
   "outputs": [],
   "source": [
    "df= pd.read_csv('HealthApp_2k.log_structured.csv')"
   ]
  },
  {
   "cell_type": "code",
   "execution_count": 8,
   "id": "43e604fd",
   "metadata": {},
   "outputs": [
    {
     "data": {
      "text/html": [
       "<div>\n",
       "<style scoped>\n",
       "    .dataframe tbody tr th:only-of-type {\n",
       "        vertical-align: middle;\n",
       "    }\n",
       "\n",
       "    .dataframe tbody tr th {\n",
       "        vertical-align: top;\n",
       "    }\n",
       "\n",
       "    .dataframe thead th {\n",
       "        text-align: right;\n",
       "    }\n",
       "</style>\n",
       "<table border=\"1\" class=\"dataframe\">\n",
       "  <thead>\n",
       "    <tr style=\"text-align: right;\">\n",
       "      <th></th>\n",
       "      <th>LineId</th>\n",
       "      <th>Time</th>\n",
       "      <th>Component</th>\n",
       "      <th>Pid</th>\n",
       "      <th>Content</th>\n",
       "      <th>EventId</th>\n",
       "      <th>EventTemplate</th>\n",
       "    </tr>\n",
       "  </thead>\n",
       "  <tbody>\n",
       "    <tr>\n",
       "      <th>0</th>\n",
       "      <td>1</td>\n",
       "      <td>20171223-22:15:29:606</td>\n",
       "      <td>Step_LSC</td>\n",
       "      <td>30002312</td>\n",
       "      <td>onStandStepChanged 3579</td>\n",
       "      <td>E42</td>\n",
       "      <td>onStandStepChanged &lt;*&gt;</td>\n",
       "    </tr>\n",
       "    <tr>\n",
       "      <th>1</th>\n",
       "      <td>2</td>\n",
       "      <td>20171223-22:15:29:615</td>\n",
       "      <td>Step_LSC</td>\n",
       "      <td>30002312</td>\n",
       "      <td>onExtend:1514038530000 14 0 4</td>\n",
       "      <td>E39</td>\n",
       "      <td>onExtend:&lt;*&gt; &lt;*&gt; &lt;*&gt; &lt;*&gt;</td>\n",
       "    </tr>\n",
       "    <tr>\n",
       "      <th>2</th>\n",
       "      <td>3</td>\n",
       "      <td>20171223-22:15:29:633</td>\n",
       "      <td>Step_StandReportReceiver</td>\n",
       "      <td>30002312</td>\n",
       "      <td>onReceive action: android.intent.action.SCREEN_ON</td>\n",
       "      <td>E41</td>\n",
       "      <td>onReceive action: android.intent.action.SCREEN_ON</td>\n",
       "    </tr>\n",
       "    <tr>\n",
       "      <th>3</th>\n",
       "      <td>4</td>\n",
       "      <td>20171223-22:15:29:635</td>\n",
       "      <td>Step_LSC</td>\n",
       "      <td>30002312</td>\n",
       "      <td>processHandleBroadcastAction action:android.in...</td>\n",
       "      <td>E43</td>\n",
       "      <td>processHandleBroadcastAction action:android.in...</td>\n",
       "    </tr>\n",
       "    <tr>\n",
       "      <th>4</th>\n",
       "      <td>5</td>\n",
       "      <td>20171223-22:15:29:635</td>\n",
       "      <td>Step_StandStepCounter</td>\n",
       "      <td>30002312</td>\n",
       "      <td>flush sensor data</td>\n",
       "      <td>E12</td>\n",
       "      <td>flush sensor data</td>\n",
       "    </tr>\n",
       "  </tbody>\n",
       "</table>\n",
       "</div>"
      ],
      "text/plain": [
       "   LineId                   Time                 Component       Pid  \\\n",
       "0       1  20171223-22:15:29:606                  Step_LSC  30002312   \n",
       "1       2  20171223-22:15:29:615                  Step_LSC  30002312   \n",
       "2       3  20171223-22:15:29:633  Step_StandReportReceiver  30002312   \n",
       "3       4  20171223-22:15:29:635                  Step_LSC  30002312   \n",
       "4       5  20171223-22:15:29:635     Step_StandStepCounter  30002312   \n",
       "\n",
       "                                             Content EventId  \\\n",
       "0                            onStandStepChanged 3579     E42   \n",
       "1                      onExtend:1514038530000 14 0 4     E39   \n",
       "2  onReceive action: android.intent.action.SCREEN_ON     E41   \n",
       "3  processHandleBroadcastAction action:android.in...     E43   \n",
       "4                                  flush sensor data     E12   \n",
       "\n",
       "                                       EventTemplate  \n",
       "0                             onStandStepChanged <*>  \n",
       "1                           onExtend:<*> <*> <*> <*>  \n",
       "2  onReceive action: android.intent.action.SCREEN_ON  \n",
       "3  processHandleBroadcastAction action:android.in...  \n",
       "4                                  flush sensor data  "
      ]
     },
     "execution_count": 8,
     "metadata": {},
     "output_type": "execute_result"
    }
   ],
   "source": [
    "#looking at first five entries\n",
    "df.head()"
   ]
  },
  {
   "cell_type": "code",
   "execution_count": 5,
   "id": "74f2a79d",
   "metadata": {},
   "outputs": [
    {
     "data": {
      "text/html": [
       "<div>\n",
       "<style scoped>\n",
       "    .dataframe tbody tr th:only-of-type {\n",
       "        vertical-align: middle;\n",
       "    }\n",
       "\n",
       "    .dataframe tbody tr th {\n",
       "        vertical-align: top;\n",
       "    }\n",
       "\n",
       "    .dataframe thead th {\n",
       "        text-align: right;\n",
       "    }\n",
       "</style>\n",
       "<table border=\"1\" class=\"dataframe\">\n",
       "  <thead>\n",
       "    <tr style=\"text-align: right;\">\n",
       "      <th></th>\n",
       "      <th>LineId</th>\n",
       "      <th>Time</th>\n",
       "      <th>Component</th>\n",
       "      <th>Pid</th>\n",
       "      <th>Content</th>\n",
       "      <th>EventId</th>\n",
       "      <th>EventTemplate</th>\n",
       "    </tr>\n",
       "  </thead>\n",
       "  <tbody>\n",
       "    <tr>\n",
       "      <th>1995</th>\n",
       "      <td>1996</td>\n",
       "      <td>20171224-0:58:53:985</td>\n",
       "      <td>Step_LSC</td>\n",
       "      <td>30002312</td>\n",
       "      <td>processHandleBroadcastAction action:android.in...</td>\n",
       "      <td>E44</td>\n",
       "      <td>processHandleBroadcastAction action:android.in...</td>\n",
       "    </tr>\n",
       "    <tr>\n",
       "      <th>1996</th>\n",
       "      <td>1997</td>\n",
       "      <td>20171224-0:59:7:581</td>\n",
       "      <td>Step_LSC</td>\n",
       "      <td>30002312</td>\n",
       "      <td>processHandleBroadcastAction action:android.in...</td>\n",
       "      <td>E44</td>\n",
       "      <td>processHandleBroadcastAction action:android.in...</td>\n",
       "    </tr>\n",
       "    <tr>\n",
       "      <th>1997</th>\n",
       "      <td>1998</td>\n",
       "      <td>20171224-1:0:0:794</td>\n",
       "      <td>Step_LSC</td>\n",
       "      <td>30002312</td>\n",
       "      <td>processHandleBroadcastAction action:android.in...</td>\n",
       "      <td>E44</td>\n",
       "      <td>processHandleBroadcastAction action:android.in...</td>\n",
       "    </tr>\n",
       "    <tr>\n",
       "      <th>1998</th>\n",
       "      <td>1999</td>\n",
       "      <td>20171224-1:1:0:935</td>\n",
       "      <td>Step_LSC</td>\n",
       "      <td>30002312</td>\n",
       "      <td>processHandleBroadcastAction action:android.in...</td>\n",
       "      <td>E44</td>\n",
       "      <td>processHandleBroadcastAction action:android.in...</td>\n",
       "    </tr>\n",
       "    <tr>\n",
       "      <th>1999</th>\n",
       "      <td>2000</td>\n",
       "      <td>20171224-1:2:35:789</td>\n",
       "      <td>Step_LSC</td>\n",
       "      <td>30002312</td>\n",
       "      <td>processHandleBroadcastAction action:android.in...</td>\n",
       "      <td>E44</td>\n",
       "      <td>processHandleBroadcastAction action:android.in...</td>\n",
       "    </tr>\n",
       "  </tbody>\n",
       "</table>\n",
       "</div>"
      ],
      "text/plain": [
       "      LineId                  Time Component       Pid  \\\n",
       "1995    1996  20171224-0:58:53:985  Step_LSC  30002312   \n",
       "1996    1997   20171224-0:59:7:581  Step_LSC  30002312   \n",
       "1997    1998    20171224-1:0:0:794  Step_LSC  30002312   \n",
       "1998    1999    20171224-1:1:0:935  Step_LSC  30002312   \n",
       "1999    2000   20171224-1:2:35:789  Step_LSC  30002312   \n",
       "\n",
       "                                                Content EventId  \\\n",
       "1995  processHandleBroadcastAction action:android.in...     E44   \n",
       "1996  processHandleBroadcastAction action:android.in...     E44   \n",
       "1997  processHandleBroadcastAction action:android.in...     E44   \n",
       "1998  processHandleBroadcastAction action:android.in...     E44   \n",
       "1999  processHandleBroadcastAction action:android.in...     E44   \n",
       "\n",
       "                                          EventTemplate  \n",
       "1995  processHandleBroadcastAction action:android.in...  \n",
       "1996  processHandleBroadcastAction action:android.in...  \n",
       "1997  processHandleBroadcastAction action:android.in...  \n",
       "1998  processHandleBroadcastAction action:android.in...  \n",
       "1999  processHandleBroadcastAction action:android.in...  "
      ]
     },
     "execution_count": 5,
     "metadata": {},
     "output_type": "execute_result"
    }
   ],
   "source": [
    "#looking at last five entries\n",
    "df.tail()"
   ]
  },
  {
   "cell_type": "code",
   "execution_count": 26,
   "id": "4d156444",
   "metadata": {},
   "outputs": [
    {
     "data": {
      "text/plain": [
       "LineId           0\n",
       "Time             0\n",
       "Component        0\n",
       "Pid              0\n",
       "Content          0\n",
       "EventId          0\n",
       "EventTemplate    0\n",
       "Time_Only        0\n",
       "dtype: int64"
      ]
     },
     "execution_count": 26,
     "metadata": {},
     "output_type": "execute_result"
    }
   ],
   "source": [
    "#checking for null values and no null values were found\n",
    "df.isnull().sum()"
   ]
  },
  {
   "cell_type": "markdown",
   "id": "c1a803b1",
   "metadata": {},
   "source": [
    "# What I have gathered...\n",
    "Looking at Head and Tail of data, it is clear that entries start at 10:15 pm of night of 23rd december 2017 and end at 1:02 am of morning of 24th December 2017. Since it's all happening consecutively, then let's clear our data of dates to make it more coherent."
   ]
  },
  {
   "cell_type": "code",
   "execution_count": 52,
   "id": "fc578e80",
   "metadata": {},
   "outputs": [],
   "source": [
    "# Convert the 'Time' column to a datetime object\n",
    "df['Time'] = pd.to_datetime(df['Time'], format='%Y%m%d-%H:%M:%S:%f')\n",
    "\n",
    "# Extract the time part (HH:MM:SS:fff) from the datetime without trailing zeros in milliseconds\n",
    "df['Time_Only'] = df['Time'].dt.strftime('%H:%M:%S:%f').str.rstrip('0')\n",
    "\n",
    "#dropping time column\n",
    "df1= df.drop(['Time', 'Pid'], axis=1)"
   ]
  },
  {
   "cell_type": "code",
   "execution_count": 53,
   "id": "a9a03e3c",
   "metadata": {},
   "outputs": [
    {
     "data": {
      "text/html": [
       "<div>\n",
       "<style scoped>\n",
       "    .dataframe tbody tr th:only-of-type {\n",
       "        vertical-align: middle;\n",
       "    }\n",
       "\n",
       "    .dataframe tbody tr th {\n",
       "        vertical-align: top;\n",
       "    }\n",
       "\n",
       "    .dataframe thead th {\n",
       "        text-align: right;\n",
       "    }\n",
       "</style>\n",
       "<table border=\"1\" class=\"dataframe\">\n",
       "  <thead>\n",
       "    <tr style=\"text-align: right;\">\n",
       "      <th></th>\n",
       "      <th>LineId</th>\n",
       "      <th>Component</th>\n",
       "      <th>Content</th>\n",
       "      <th>EventId</th>\n",
       "      <th>EventTemplate</th>\n",
       "      <th>Time_Only</th>\n",
       "    </tr>\n",
       "  </thead>\n",
       "  <tbody>\n",
       "    <tr>\n",
       "      <th>0</th>\n",
       "      <td>1</td>\n",
       "      <td>Step_LSC</td>\n",
       "      <td>onStandStepChanged 3579</td>\n",
       "      <td>E42</td>\n",
       "      <td>onStandStepChanged &lt;*&gt;</td>\n",
       "      <td>22:15:29:606</td>\n",
       "    </tr>\n",
       "    <tr>\n",
       "      <th>1</th>\n",
       "      <td>2</td>\n",
       "      <td>Step_LSC</td>\n",
       "      <td>onExtend:1514038530000 14 0 4</td>\n",
       "      <td>E39</td>\n",
       "      <td>onExtend:&lt;*&gt; &lt;*&gt; &lt;*&gt; &lt;*&gt;</td>\n",
       "      <td>22:15:29:615</td>\n",
       "    </tr>\n",
       "    <tr>\n",
       "      <th>2</th>\n",
       "      <td>3</td>\n",
       "      <td>Step_StandReportReceiver</td>\n",
       "      <td>onReceive action: android.intent.action.SCREEN_ON</td>\n",
       "      <td>E41</td>\n",
       "      <td>onReceive action: android.intent.action.SCREEN_ON</td>\n",
       "      <td>22:15:29:633</td>\n",
       "    </tr>\n",
       "    <tr>\n",
       "      <th>3</th>\n",
       "      <td>4</td>\n",
       "      <td>Step_LSC</td>\n",
       "      <td>processHandleBroadcastAction action:android.in...</td>\n",
       "      <td>E43</td>\n",
       "      <td>processHandleBroadcastAction action:android.in...</td>\n",
       "      <td>22:15:29:635</td>\n",
       "    </tr>\n",
       "    <tr>\n",
       "      <th>4</th>\n",
       "      <td>5</td>\n",
       "      <td>Step_StandStepCounter</td>\n",
       "      <td>flush sensor data</td>\n",
       "      <td>E12</td>\n",
       "      <td>flush sensor data</td>\n",
       "      <td>22:15:29:635</td>\n",
       "    </tr>\n",
       "  </tbody>\n",
       "</table>\n",
       "</div>"
      ],
      "text/plain": [
       "   LineId                 Component  \\\n",
       "0       1                  Step_LSC   \n",
       "1       2                  Step_LSC   \n",
       "2       3  Step_StandReportReceiver   \n",
       "3       4                  Step_LSC   \n",
       "4       5     Step_StandStepCounter   \n",
       "\n",
       "                                             Content EventId  \\\n",
       "0                            onStandStepChanged 3579     E42   \n",
       "1                      onExtend:1514038530000 14 0 4     E39   \n",
       "2  onReceive action: android.intent.action.SCREEN_ON     E41   \n",
       "3  processHandleBroadcastAction action:android.in...     E43   \n",
       "4                                  flush sensor data     E12   \n",
       "\n",
       "                                       EventTemplate     Time_Only  \n",
       "0                             onStandStepChanged <*>  22:15:29:606  \n",
       "1                           onExtend:<*> <*> <*> <*>  22:15:29:615  \n",
       "2  onReceive action: android.intent.action.SCREEN_ON  22:15:29:633  \n",
       "3  processHandleBroadcastAction action:android.in...  22:15:29:635  \n",
       "4                                  flush sensor data  22:15:29:635  "
      ]
     },
     "execution_count": 53,
     "metadata": {},
     "output_type": "execute_result"
    }
   ],
   "source": [
    "df1.head()"
   ]
  },
  {
   "cell_type": "markdown",
   "id": "510d0a7e",
   "metadata": {},
   "source": [
    "# Let's Look at Component column \n",
    "The most evoked component is Step_LSC"
   ]
  },
  {
   "cell_type": "code",
   "execution_count": 54,
   "id": "6cf4f880",
   "metadata": {},
   "outputs": [
    {
     "name": "stdout",
     "output_type": "stream",
     "text": [
      "Step_LSC                       710\n",
      "Step_SPUtils                   494\n",
      "Step_ExtSDM                    482\n",
      "Step_StandReportReceiver       171\n",
      "HiH_HiSyncControl               42\n",
      "Step_StandStepCounter           19\n",
      "HiH_DataStatManager             17\n",
      "HiH_HiHealthDataInsertStore     11\n",
      "HiH_                            10\n",
      "HiH_HiHealthBinder               9\n",
      "HiH_HiAppUtil                    8\n",
      "Step_FlushableStepDataCache      8\n",
      "HiH_HiBroadcastUtil              5\n",
      "Step_StandStepDataManager        5\n",
      "HiH_ListenerManager              2\n",
      "HiH_HiSyncUtil                   2\n",
      "Step_HGNH                        2\n",
      "Step_ScreenUtil                  1\n",
      "Step_DataCache                   1\n",
      "Step_NotificationUtil            1\n",
      "Name: Component, dtype: int64\n"
     ]
    },
    {
     "data": {
      "image/png": "[encoded data removed]",
      "text/plain": [
       "<Figure size 432x288 with 1 Axes>"
      ]
     },
     "metadata": {
      "needs_background": "light"
     },
     "output_type": "display_data"
    }
   ],
   "source": [
    "# Count the occurrences of each unique value in the 'Component' column\n",
    "component_counts = df1['Component'].value_counts()\n",
    "\n",
    "#print the result\n",
    "print(component_counts)\n",
    "\n",
    "# Create a bar graph to visualize the counts\n",
    "component_counts.plot(kind='bar')\n",
    "plt.xlabel('Component')\n",
    "plt.ylabel('Count')\n",
    "plt.title('Count of Each Component')\n",
    "plt.show()"
   ]
  },
  {
   "cell_type": "code",
   "execution_count": 55,
   "id": "7d557c40",
   "metadata": {},
   "outputs": [
    {
     "data": {
      "image/png": "[encoded data removed]",
      "text/plain": [
       "<Figure size 864x432 with 1 Axes>"
      ]
     },
     "metadata": {
      "needs_background": "light"
     },
     "output_type": "display_data"
    }
   ],
   "source": [
    "# Create a bar chart of components being evoked against time\n",
    "plt.figure(figsize=(12, 6))\n",
    "plt.scatter(df1.index, df1['Component'], marker='+')\n",
    "plt.xlabel('Time')\n",
    "plt.ylabel('Component')\n",
    "plt.title('Component vs. Time')\n",
    "plt.xticks([])\n",
    "plt.show()"
   ]
  },
  {
   "cell_type": "markdown",
   "id": "5ac7b44d",
   "metadata": {},
   "source": [
    "From this graph we can see uses of Components of HealthApp with time. As we can see Components like HiH_ListenerManager, HiH_HiSyncUtil, Step_HGNH, Step_ScreenUtil, Step_DataCache, Step_NotificationUtil have been rarely used. And components like Step_LSC, Step_ExtSDM and Step_SPUtils have been constantly evoved throughout 4 hours. "
   ]
  },
  {
   "cell_type": "markdown",
   "id": "b70bc1dd",
   "metadata": {},
   "source": [
    "# Now let's see what kinds of events are associated with each Component"
   ]
  },
  {
   "cell_type": "code",
   "execution_count": 56,
   "id": "bc1c3655",
   "metadata": {},
   "outputs": [
    {
     "name": "stdout",
     "output_type": "stream",
     "text": [
      "Component: HiH_, Associated EventId: E24, E27\n",
      "\n",
      "Component: HiH_DataStatManager, Associated EventId: E37\n",
      "\n",
      "Component: HiH_HiAppUtil, Associated EventId: E16\n",
      "\n",
      "Component: HiH_HiBroadcastUtil, Associated EventId: E54\n",
      "\n",
      "Component: HiH_HiHealthBinder, Associated EventId: E15, E32, E34, E31, E33\n",
      "\n",
      "Component: HiH_HiHealthDataInsertStore, Associated EventId: E49, E52, E50, E2, E51\n",
      "\n",
      "Component: HiH_HiSyncControl, Associated EventId: E8, E7, E67, E62, E61, E64, E36, E25, E28, E23, E65, E66, E5\n",
      "\n",
      "Component: HiH_HiSyncUtil, Associated EventId: E6\n",
      "\n",
      "Component: HiH_ListenerManager, Associated EventId: E63\n",
      "\n",
      "Component: Step_DataCache, Associated EventId: E9\n",
      "\n",
      "Component: Step_ExtSDM, Associated EventId: E4, E3\n",
      "\n",
      "Component: Step_FlushableStepDataCache, Associated EventId: E75, E72, E29, E30\n",
      "\n",
      "Component: Step_HGNH, Associated EventId: E38, E10\n",
      "\n",
      "Component: Step_LSC, Associated EventId: E42, E39, E43, E44, E14, E1, E74, E73, E13, E69, E21\n",
      "\n",
      "Component: Step_NotificationUtil, Associated EventId: E11\n",
      "\n",
      "Component: Step_SPUtils, Associated EventId: E22, E58, E60, E59, E18, E19, E20, E17, E55, E56, E57\n",
      "\n",
      "Component: Step_ScreenUtil, Associated EventId: E35\n",
      "\n",
      "Component: Step_StandReportReceiver, Associated EventId: E41, E47, E40, E53\n",
      "\n",
      "Component: Step_StandStepCounter, Associated EventId: E12, E48, E45\n",
      "\n",
      "Component: Step_StandStepDataManager, Associated EventId: E68, E26, E70, E71, E46\n",
      "\n"
     ]
    }
   ],
   "source": [
    "# Group the data by 'Component' and aggregate the 'EventID' values into a list\n",
    "component_templates = df1.groupby('Component')['EventId'].unique().reset_index()\n",
    "\n",
    "# Iterate through the grouped data and print Component and associated EventID\n",
    "for index, row in component_templates.iterrows():\n",
    "    component = row['Component']\n",
    "    event_Id_list = row['EventId']\n",
    "    \n",
    "    print(f\"Component: {component}, Associated EventId: {', '.join(event_Id_list)}\\n\")\n",
    "\n"
   ]
  },
  {
   "cell_type": "code",
   "execution_count": 66,
   "id": "b2e94771",
   "metadata": {},
   "outputs": [],
   "source": [
    "#Function to get Events associated with a component\n",
    "def getEventsOfComponent(df1, Component_name):\n",
    "    Component_df1 = df1[df1['Component'] == Component_name]\n",
    "    # Get unique pairs of 'EventId' and 'EventTemplate' from the filtered DataFrame\n",
    "    unique_event_pairs = Component_df1[['EventId', 'EventTemplate']].drop_duplicates().reset_index(drop=True)\n",
    "    print(f\"Unique EventId and EventTemplate pairs with Component {Component_name}:\")\n",
    "    print(unique_event_pairs)\n"
   ]
  },
  {
   "cell_type": "code",
   "execution_count": 69,
   "id": "88a020e1",
   "metadata": {},
   "outputs": [
    {
     "name": "stdout",
     "output_type": "stream",
     "text": [
      "Unique EventId and EventTemplate pairs with Component Step_LSC:\n",
      "   EventId                                      EventTemplate\n",
      "0      E42                             onStandStepChanged <*>\n",
      "1      E39                           onExtend:<*> <*> <*> <*>\n",
      "2      E43  processHandleBroadcastAction action:android.in...\n",
      "3      E44  processHandleBroadcastAction action:android.in...\n",
      "4      E14                        flushTempCacheToDB by stand\n",
      "5       E1  Alarm uploadStaticsToDB totalSteps=<*>:<*>:<*>...\n",
      "6      E74  uploadStaticsToDB() onResult  type = <*> obj=true\n",
      "7      E73              uploadStaticsToDB failed message=true\n",
      "8      E13                            flush2DB result success\n",
      "9      E69           timeStamp back,extendReportTimeStamp=<*>\n",
      "10     E21          getTodaySportData mStepsRecordManager=<*>\n"
     ]
    }
   ],
   "source": [
    "getEventsOfComponent(df1, 'Step_LSC')"
   ]
  },
  {
   "cell_type": "code",
   "execution_count": 73,
   "id": "39a2c8dd",
   "metadata": {},
   "outputs": [
    {
     "name": "stdout",
     "output_type": "stream",
     "text": [
      "Unique EventId and EventTemplate pairs with Component Step_ExtSDM:\n",
      "  EventId                                 EventTemplate\n",
      "0      E4  calculateCaloriesWithCache totalCalories=<*>\n",
      "1      E3  calculateAltitudeWithCache totalAltitude=<*>\n"
     ]
    }
   ],
   "source": [
    "getEventsOfComponent(df1, 'Step_ExtSDM')"
   ]
  },
  {
   "cell_type": "code",
   "execution_count": 74,
   "id": "bddbe83d",
   "metadata": {},
   "outputs": [
    {
     "name": "stdout",
     "output_type": "stream",
     "text": [
      "Unique EventId and EventTemplate pairs with Component Step_SPUtils:\n",
      "   EventId                                      EventTemplate\n",
      "0      E22  getTodayTotalDetailSteps = <*>##<*>##<*>##<*>#...\n",
      "1      E58                       setTodayTotalDetailSteps=<*>\n",
      "2      E60                       setWriteDBLastDataMinute=<*>\n",
      "3      E59                   setWriteDBLastDataMinute success\n",
      "4      E18                               getStepCounterStatus\n",
      "5      E19                         getStepCounterStatus= true\n",
      "6      E20          getTodayBasicStandardSteps= <*>##<*>##<*>\n",
      "7      E17                        getDiffTotalSteps= <*>##<*>\n",
      "8      E55  setBasicStandardSteps basicStandardStep=<*> re...\n",
      "9      E56                              setDiffTotalSteps=<*>\n",
      "10     E57                 setGoalNotifiShownRecord <*> false\n"
     ]
    }
   ],
   "source": [
    "getEventsOfComponent(df1, 'Step_SPUtils')"
   ]
  },
  {
   "cell_type": "markdown",
   "id": "ea6f8490",
   "metadata": {},
   "source": [
    "# Plotting occurence of events associated with a component with respect to time"
   ]
  },
  {
   "cell_type": "code",
   "execution_count": 91,
   "id": "823d8bec",
   "metadata": {},
   "outputs": [],
   "source": [
    "def plot_event_occurrence_over_time(dataframe, component_name):\n",
    "    # Filter the DataFrame to select rows with the specified component\n",
    "    component_df = dataframe[dataframe['Component'] == component_name]\n",
    "    \n",
    "   # Convert 'Time' column to datetime format and set it as the DataFrame's index\n",
    "    component_df['Time'] = pd.to_datetime(component_df['Time'])\n",
    "    component_df.set_index('Time', inplace=True)\n",
    "    \n",
    "    # Create a line plot of 'EventId' over time\n",
    "    plt.figure(figsize=(12, 6))\n",
    "    plt.scatter(component_df.index, component_df['EventId'], marker='+', color='red')\n",
    "    plt.xlabel('Time')\n",
    "    plt.ylabel('EventId')\n",
    "    plt.title(f'EventId vs. Time for Component {component_name}')\n",
    "    plt.grid(True)\n",
    "    plt.show()\n",
    "\n"
   ]
  },
  {
   "cell_type": "code",
   "execution_count": 92,
   "id": "36d17349",
   "metadata": {},
   "outputs": [
    {
     "name": "stderr",
     "output_type": "stream",
     "text": [
      "C:\\Users\\my\\AppData\\Local\\Temp\\ipykernel_3104\\703944565.py:6: SettingWithCopyWarning: \n",
      "A value is trying to be set on a copy of a slice from a DataFrame.\n",
      "Try using .loc[row_indexer,col_indexer] = value instead\n",
      "\n",
      "See the caveats in the documentation: https://pandas.pydata.org/pandas-docs/stable/user_guide/indexing.html#returning-a-view-versus-a-copy\n",
      "  component_df['Time'] = pd.to_datetime(component_df['Time'])\n"
     ]
    },
    {
     "data": {
      "image/png": "[encoded data removed]",
      "text/plain": [
       "<Figure size 864x432 with 1 Axes>"
      ]
     },
     "metadata": {
      "needs_background": "light"
     },
     "output_type": "display_data"
    }
   ],
   "source": [
    "# here we'll use df to analyze events with respect to time\n",
    "plot_event_occurrence_over_time(df, 'Step_LSC')"
   ]
  },
  {
   "cell_type": "markdown",
   "id": "88b0649e",
   "metadata": {},
   "source": [
    "This scatter plot gives occurances of Events of Component 'Step_LSC' from 10 pm of 23rd december to 1 am of 24th december. The most frequent even is E44, i.e., 'processHandleBroadcastAction action:android.in...'"
   ]
  },
  {
   "cell_type": "code",
   "execution_count": 93,
   "id": "77e66960",
   "metadata": {},
   "outputs": [
    {
     "name": "stderr",
     "output_type": "stream",
     "text": [
      "C:\\Users\\my\\AppData\\Local\\Temp\\ipykernel_3104\\703944565.py:6: SettingWithCopyWarning: \n",
      "A value is trying to be set on a copy of a slice from a DataFrame.\n",
      "Try using .loc[row_indexer,col_indexer] = value instead\n",
      "\n",
      "See the caveats in the documentation: https://pandas.pydata.org/pandas-docs/stable/user_guide/indexing.html#returning-a-view-versus-a-copy\n",
      "  component_df['Time'] = pd.to_datetime(component_df['Time'])\n"
     ]
    },
    {
     "data": {
      "image/png": "[encoded data removed]",
      "text/plain": [
       "<Figure size 864x432 with 1 Axes>"
      ]
     },
     "metadata": {
      "needs_background": "light"
     },
     "output_type": "display_data"
    }
   ],
   "source": [
    "plot_event_occurrence_over_time(df, 'Step_ExtSDM')"
   ]
  },
  {
   "cell_type": "markdown",
   "id": "ed700fe7",
   "metadata": {},
   "source": [
    "Here events E4- calculateCaloriesWithCache totalCalories=<*>, and E3- calculateAltitudeWithCache totalAltitude=<*>, of Component 'Step_ExtSDM' are occuring at the same time."
   ]
  },
  {
   "cell_type": "code",
   "execution_count": 94,
   "id": "84025b47",
   "metadata": {},
   "outputs": [
    {
     "name": "stderr",
     "output_type": "stream",
     "text": [
      "C:\\Users\\my\\AppData\\Local\\Temp\\ipykernel_3104\\703944565.py:6: SettingWithCopyWarning: \n",
      "A value is trying to be set on a copy of a slice from a DataFrame.\n",
      "Try using .loc[row_indexer,col_indexer] = value instead\n",
      "\n",
      "See the caveats in the documentation: https://pandas.pydata.org/pandas-docs/stable/user_guide/indexing.html#returning-a-view-versus-a-copy\n",
      "  component_df['Time'] = pd.to_datetime(component_df['Time'])\n"
     ]
    },
    {
     "data": {
      "image/png": "[encoded data removed]",
      "text/plain": [
       "<Figure size 864x432 with 1 Axes>"
      ]
     },
     "metadata": {
      "needs_background": "light"
     },
     "output_type": "display_data"
    }
   ],
   "source": [
    "plot_event_occurrence_over_time(df, 'Step_SPUtils')"
   ]
  },
  {
   "cell_type": "markdown",
   "id": "aa9b38a3",
   "metadata": {},
   "source": [
    "Here, for component 'Step_SPUtils' events E22- getTodayTotalDetailSteps = <*>##<*>##<*>##<*>#. and event E58- setTodayTotalDetailSteps=<*> takes the cake, and also they accur almost at same time"
   ]
  },
  {
   "cell_type": "code",
   "execution_count": null,
   "id": "33d2f1b3",
   "metadata": {},
   "outputs": [],
   "source": []
  }
 ],
 "metadata": {
  "kernelspec": {
   "display_name": "Python 3 (ipykernel)",
   "language": "python",
   "name": "python3"
  },
  "language_info": {
   "codemirror_mode": {
    "name": "ipython",
    "version": 3
   },
   "file_extension": ".py",
   "mimetype": "text/x-python",
   "name": "python",
   "nbconvert_exporter": "python",
   "pygments_lexer": "ipython3",
   "version": "3.9.12"
  }
 },
 "nbformat": 4,
 "nbformat_minor": 5
}
